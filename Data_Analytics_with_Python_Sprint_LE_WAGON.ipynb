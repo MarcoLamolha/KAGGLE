{
  "nbformat": 4,
  "nbformat_minor": 0,
  "metadata": {
    "colab": {
      "name": "Data Analytics with Python Sprint - LE WAGON",
      "provenance": [],
      "toc_visible": true,
      "authorship_tag": "ABX9TyOMbYjuHWGyB6QCa0YhnVrn",
      "include_colab_link": true
    },
    "kernelspec": {
      "name": "python3",
      "display_name": "Python 3"
    },
    "language_info": {
      "name": "python"
    }
  },
  "cells": [
    {
      "cell_type": "markdown",
      "metadata": {
        "id": "view-in-github",
        "colab_type": "text"
      },
      "source": [
        "<a href=\"https://colab.research.google.com/github/MarcoLamolha/KAGGLE/blob/main/Data_Analytics_with_Python_Sprint_LE_WAGON.ipynb\" target=\"_parent\"><img src=\"https://colab.research.google.com/assets/colab-badge.svg\" alt=\"Open In Colab\"/></a>"
      ]
    },
    {
      "cell_type": "markdown",
      "source": [
        "# CURSO 1\n",
        "Data Analytics with Python Sprint"
      ],
      "metadata": {
        "id": "nMcY_QlpKOtn"
      }
    },
    {
      "cell_type": "code",
      "execution_count": 2,
      "metadata": {
        "id": "3XSUQD6SDdvm"
      },
      "outputs": [],
      "source": [
        "import pandas as pd\n",
        "import seaborn as sns\n",
        "\n"
      ]
    }
  ]
}